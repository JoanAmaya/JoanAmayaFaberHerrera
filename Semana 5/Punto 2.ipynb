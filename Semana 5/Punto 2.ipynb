{
 "cells": [
  {
   "cell_type": "code",
   "execution_count": 10,
   "metadata": {},
   "outputs": [],
   "source": [
    "import sympy as sym"
   ]
  },
  {
   "cell_type": "code",
   "execution_count": 11,
   "metadata": {},
   "outputs": [],
   "source": [
    "t= sym.Symbol(\"t\", Real=True)\n",
    "h= sym.Symbol(\"h\", Real=True)"
   ]
  },
  {
   "cell_type": "code",
   "execution_count": 12,
   "metadata": {},
   "outputs": [],
   "source": [
    "#Método para 3 puntos Bashford\n",
    "\n",
    "F1= (t-(-h))*(t-(-2*h))/(2*(h**2))\n",
    "F2 = -(t)*(t-(-2*h))/(h**2)\n",
    "F3 = ((t-(-h))*(t))/(2*(h**2))\n",
    "I1= sym.integrate(F1, (t,0,h))\n",
    "I2= sym.integrate(F2, (t,0,h))\n",
    "I3= sym.integrate(F3, (t,0,h))"
   ]
  },
  {
   "cell_type": "code",
   "execution_count": 13,
   "metadata": {},
   "outputs": [],
   "source": [
    "#Adam moulton 3 puntos\n",
    "\n",
    "FM1= ((t-(h))*(t-(2*h)))/(2*(h**2))\n",
    "FM2= ((t-(-h))*(t-h))/(-h**2)\n",
    "FM3 = (t-(0))*(t-(h))/(2*(h**2))\n",
    "IM1= sym.integrate(FM1, (t,0,h))\n",
    "IM2= sym.integrate(FM2, (t,0,h))\n",
    "IM3= sym.integrate(FM3, (t,0,h))\n"
   ]
  },
  {
   "cell_type": "code",
   "execution_count": 14,
   "metadata": {},
   "outputs": [],
   "source": [
    "#Adam Banshford 4 puntos\n",
    "FB1 = ((t-(-h))*(t+2*h)*(t+3*h))/(-6*(h**3))\n",
    "FB2 = ((t-0)*(t+2*h)*(t+3*h))/(-2*(h**3))\n",
    "FB3=((t-(-h))*(t-0)*(t+3*h))/(2*(h**3))\n",
    "FB4=((t-h)*(t-2*h)*(t-3*h))/(6*(h**3))\n",
    "IB4= sym.integrate(FB4, (t,0,h))\n",
    "IB3= sym.integrate(FB3, (t,0,h))\n",
    "IB2= sym.integrate(FB2, (t,0,h))\n",
    "IB1= sym.integrate(FB1, (t,0,h))"
   ]
  },
  {
   "cell_type": "code",
   "execution_count": 15,
   "metadata": {},
   "outputs": [],
   "source": [
    "#Adam Moulton 4 puntos\n",
    "FM41= ((t+h)*(t+2*h)*(t-0))/(6*(h**3))\n",
    "FM42= ((t+h)*(t+2*h)*(t-h))/(-2*(h**3))\n",
    "FM43= ((t-0)*(t+2*h)*(t-h))/(2*(h**3))\n",
    "FM44= ((t+h)*(t-0)*(t-h))/(-6*(h**3))\n",
    "\n",
    "IM41= sym.integrate(FM41, (t,0,h))\n",
    "IM42= sym.integrate(FM42, (t,0,h))\n",
    "IM43= sym.integrate(FM43, (t,0,h))\n",
    "IM44= sym.integrate(FM44, (t,0,h))"
   ]
  },
  {
   "cell_type": "code",
   "execution_count": 17,
   "metadata": {},
   "outputs": [
    {
     "name": "stdout",
     "output_type": "stream",
     "text": [
      "23*h/12 -4*h/3 5*h/12\n"
     ]
    }
   ],
   "source": [
    "###coeficientes del método de Adams-Bashforth de tres puntos.\n",
    "print(I1,I2,I3)"
   ]
  },
  {
   "cell_type": "code",
   "execution_count": 23,
   "metadata": {},
   "outputs": [
    {
     "name": "stdout",
     "output_type": "stream",
     "text": [
      "-55*h/24 -59*h/24 37*h/24 -3*h/8\n"
     ]
    }
   ],
   "source": [
    "###coeficientes del método de Adams-Bashforth de cuatro puntos.\n",
    "print(IB1,IB2,IB3,IB4)"
   ]
  },
  {
   "cell_type": "code",
   "execution_count": 22,
   "metadata": {},
   "outputs": [
    {
     "name": "stdout",
     "output_type": "stream",
     "text": [
      "5*h/12 2*h/3 -h/12\n"
     ]
    }
   ],
   "source": [
    "###coeficientes del método de Adams-Moulton de tres puntos.\n",
    "print(IM1,IM2,IM3)"
   ]
  },
  {
   "cell_type": "code",
   "execution_count": 24,
   "metadata": {},
   "outputs": [
    {
     "name": "stdout",
     "output_type": "stream",
     "text": [
      "3*h/8 19*h/24 -5*h/24 h/24\n"
     ]
    }
   ],
   "source": [
    "###coeficientes del método de Adams-Moulton de cuatro puntos.\n",
    "print(IM41,IM42,IM43,IM44)"
   ]
  },
  {
   "cell_type": "code",
   "execution_count": null,
   "metadata": {},
   "outputs": [],
   "source": []
  }
 ],
 "metadata": {
  "kernelspec": {
   "display_name": "Python 3",
   "language": "python",
   "name": "python3"
  },
  "language_info": {
   "codemirror_mode": {
    "name": "ipython",
    "version": 3
   },
   "file_extension": ".py",
   "mimetype": "text/x-python",
   "name": "python",
   "nbconvert_exporter": "python",
   "pygments_lexer": "ipython3",
   "version": "3.8.5"
  }
 },
 "nbformat": 4,
 "nbformat_minor": 4
}
