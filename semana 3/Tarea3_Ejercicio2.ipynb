{
 "cells": [
  {
   "cell_type": "code",
   "execution_count": null,
   "metadata": {},
   "outputs": [],
   "source": [
    "import numpy as np\n",
    "import matplotlib.pyplot as plt\n",
    "\n",
    "data = np.loadtxt(\"EnergiaPotencialGas2D.txt\")\n",
    "\n",
    "\n",
    "valores=data[:,1]\n",
    "\n",
    "\n",
    "media=np.mean(valores)\n",
    "E_potencial=valores-media\n",
    "\n",
    "plt.figure(figsize=(12,10))\n",
    "\n",
    "\n",
    "plt.plot(E_potencial,\"--\", label=\"Serie original\")\n",
    "fftpotencial=np.fft.fft(E_potencial)\n",
    "\n",
    "\n",
    "PuntosT=len(E_potencial)\n",
    "\n",
    "\n",
    "Frecuencias = np.fft.fftfreq(PuntosT,1)\n",
    "ffta=np.abs(fftpotencial)\n",
    "\n",
    "\n",
    "#mascara\n",
    "\n",
    "\n",
    "valores0 = Frecuencias <0\n",
    "fftpotencial[valores0] = 0\n",
    "plt.plot()\n",
    "ii = np.argmax(np.abs(fftpotencial))\n",
    "Valor=fftpotencial[ii]\n",
    "fftpotencial[fftpotencial!=Valor]=0\n",
    "frecuencia_fundamental=Frecuencias[ii]\n",
    "tao=1/frecuencia_fundamental\n",
    "plt.title(\"Tiempo libre \"+str(tao)+\" pasos temporales\")\n",
    "NewSample = np.fft.ifft(2*fftpotencial)\n",
    "plt.plot(NewSample, \".\",label=\"Fundamental\")\n",
    "plt.legend()\n",
    "plt.savefig(\"TransformadafourierTermodinámicaJoanFaber.png\")"
   ]
  }
 ],
 "metadata": {
  "kernelspec": {
   "display_name": "Python 3",
   "language": "python",
   "name": "python3"
  },
  "language_info": {
   "codemirror_mode": {
    "name": "ipython",
    "version": 3
   },
   "file_extension": ".py",
   "mimetype": "text/x-python",
   "name": "python",
   "nbconvert_exporter": "python",
   "pygments_lexer": "ipython3",
   "version": "3.8.5"
  }
 },
 "nbformat": 4,
 "nbformat_minor": 4
}
