{
 "cells": [
  {
   "cell_type": "code",
   "execution_count": 221,
   "metadata": {},
   "outputs": [],
   "source": [
    "import numpy as np\n",
    "import matplotlib.pyplot as plt\n",
    "from matplotlib import rc\n",
    "import matplotlib.animation as anim\n"
   ]
  },
  {
   "cell_type": "code",
   "execution_count": 231,
   "metadata": {},
   "outputs": [],
   "source": [
    "G= 6.6674*(10**-11)\n",
    "M_t= 5.9736*(10**24)\n",
    "r_t=6.3781*(10**6)\n",
    "M_l=0.07349*(10**24)\n",
    "r_l=1.7374*(10**6)\n",
    "d=3.844*(10**8)\n",
    "w=2.6617*(10**-6)\n"
   ]
  },
  {
   "cell_type": "code",
   "execution_count": 232,
   "metadata": {},
   "outputs": [],
   "source": [
    "C=(G*M_t)/(d**3)\n",
    "mu=M_l/M_t"
   ]
  },
  {
   "cell_type": "code",
   "execution_count": 233,
   "metadata": {},
   "outputs": [],
   "source": [
    "def f0(P_r):\n",
    "    return P_r"
   ]
  },
  {
   "cell_type": "code",
   "execution_count": 234,
   "metadata": {},
   "outputs": [],
   "source": [
    "def f1(P_i,r):\n",
    "    funcion= P_i/(r**2)\n",
    "    return funcion"
   ]
  },
  {
   "cell_type": "code",
   "execution_count": 235,
   "metadata": {},
   "outputs": [],
   "source": [
    "\n",
    "def f2(P_i,r,t,phi):\n",
    "    r_1=np.sqrt(1+(r**2)-(2*r*np.cos(phi-(w*t))))\n",
    "    r_2=r-np.cos(phi-(w*t))\n",
    "    fnc= ((P_i**2)/(r**3))-C*((1/(r**2))+(mu/(r_1**3))*r_2)\n",
    "    return fnc"
   ]
  },
  {
   "cell_type": "code",
   "execution_count": 236,
   "metadata": {},
   "outputs": [],
   "source": [
    "def f3(r,t,phi):\n",
    "    r_1=np.sqrt(1+(r**2)-(2*r*np.cos(phi-(w*t))))\n",
    "    r_2=np.sin(phi-w*t)\n",
    "    function= -(((C)*mu*r)/(r_1**3))*r_2\n",
    "    return function"
   ]
  },
  {
   "cell_type": "code",
   "execution_count": null,
   "metadata": {},
   "outputs": [],
   "source": [
    "\n",
    "\n",
    "\n"
   ]
  },
  {
   "cell_type": "code",
   "execution_count": 237,
   "metadata": {},
   "outputs": [],
   "source": [
    "def Rungekuta(f0,f1,f2,f3,r0,t):\n",
    "    \n",
    "    h = (t[-1] - t[0])/(len(t)-1)\n",
    "    \n",
    "    dradio = np.zeros(len(t))\n",
    "    dphi = np.zeros(len(t))\n",
    "    dmomento_r = np.zeros(len(t))\n",
    "    dmomento_phi = np.zeros(len(t))\n",
    "    \n",
    "    dradio[0] = r0[0]\n",
    "    dphi[0] = r0[1]\n",
    "    dmomento_r[0] = r0[2]\n",
    "    dmomento_phi[0] = r0[3]\n",
    "    \n",
    "    \n",
    "    K1 = np.zeros(4)\n",
    "    K2 = np.zeros(4)\n",
    "    K3 = np.zeros(4)\n",
    "    K4 = np.zeros(4)\n",
    "    \n",
    "    \n",
    "    for i in range(1,len(t)):\n",
    "        \n",
    "        K1[0] = f0(dmomento_r[i-1])\n",
    "        K1[1] = f1(dmomento_phi[i-1],dradio[i-1])\n",
    "        K1[2] = f2(dmomento_phi[i-1],dradio[i-1],t[i-1],dphi[i-1])\n",
    "        K1[3] = f3(dradio[i-1],t[i-1],dphi[i-1])\n",
    "        \n",
    "        K2[0] = f0(dmomento_r[i-1]+(h/2)*K1[2])\n",
    "        K2[1] = f1(dmomento_phi[i-1]+(h/2)*K1[3],dradio[i-1]+(h/2)*K1[0])\n",
    "        K2[2] = f2(dmomento_phi[i-1]+(h/2)*K1[3],dradio[i-1]+(h/2)*K1[0],t[i-1]+(h/2),dphi[i-1]+(h/2)*K1[1])\n",
    "        K2[3] = f3(dradio[i-1]+(h/2)*K1[0],t[i-1]+(h/2),dphi[i-1]+(h/2)*K1[1])\n",
    "        \n",
    "        K3[0] = f0(dmomento_r[i-1]+(h/2)*K2[2])\n",
    "        K3[1] = f1(dmomento_phi[i-1]+(h/2)*K2[3],dradio[i-1]+(h/2)*K2[0])\n",
    "        K3[2] = f2(dmomento_phi[i-1]+(h/2)*K2[3],dradio[i-1]+(h/2)*K2[0],t[i-1]+(h/2),dphi[i-1]+(h/2)*K2[1])\n",
    "        K3[3] = f3(dradio[i-1]+(h/2)*K2[0],t[i-1]+(h/2),dphi[i-1]+(h/2)*K2[1])\n",
    "        \n",
    "        K4[0] = f0(dmomento_r[i-1]+(h)*K3[2])\n",
    "        K4[1] = f1(dmomento_phi[i-1]+(h)*K3[3],dradio[i-1]+(h)*K3[0])\n",
    "        K4[2] = f2(dmomento_phi[i-1]+(h)*K3[3],dradio[i-1]+(h)*K3[0],t[i-1]+h,dphi[i-1]+(h)*K3[1])\n",
    "        K4[3] = f3(dradio[i-1]+(h)*K3[0],t[i-1]+(h),dphi[i-1]+(h)*K3[1])       \n",
    "        \n",
    "        dradio[i] = dradio[i-1] + (h/6)*(K1[0]+2*K2[0]+2*K3[0]+K4[0])\n",
    "        dphi[i] = dphi[i-1] + (h/6)*(K1[1]+2*K2[1]+2*K3[1]+K4[1])\n",
    "        dmomento_r[i] = dmomento_r[i-1] + (h/6)*(K1[2]+2*K2[2]+2*K3[2]+K4[2])\n",
    "        dmomento_phi[i] =  dmomento_phi[i-1] + (h/6)*(K1[3]+2*K2[3]+2*K3[3]+K4[3])\n",
    "        \n",
    "    return dradio,dphi,dmomento_r,dmomento_phi"
   ]
  },
  {
   "cell_type": "code",
   "execution_count": 244,
   "metadata": {},
   "outputs": [],
   "source": [
    "r0=r_t/d\n",
    "v0=np.sqrt(2*G*M_t/r_t)/d\n",
    "tetha=np.deg2rad(35)\n",
    "phi=np.deg2rad(45)\n",
    "\n",
    "p_r=v0*np.cos(tetha-phi)\n",
    "p_phi=r0*v0*np.sin(tetha-phi)\n",
    "t=np.arange(0,100000*2,1)\n",
    "r0_=np.array([r0,phi,p_r,p_phi])"
   ]
  },
  {
   "cell_type": "code",
   "execution_count": 245,
   "metadata": {},
   "outputs": [],
   "source": [
    "dradio,dphi,dmomento_r,dmomento_phi=Rungekuta(f0,f1,f2,f3,r0_,t)"
   ]
  },
  {
   "cell_type": "code",
   "execution_count": null,
   "metadata": {},
   "outputs": [],
   "source": []
  },
  {
   "cell_type": "code",
   "execution_count": 246,
   "metadata": {},
   "outputs": [
    {
     "data": {
      "text/plain": [
       "[<matplotlib.lines.Line2D at 0x1a08fd7c5e0>]"
      ]
     },
     "execution_count": 246,
     "metadata": {},
     "output_type": "execute_result"
    },
    {
     "data": {
      "image/png": "[encoded data removed]",
      "text/plain": [
       "<Figure size 504x504 with 1 Axes>"
      ]
     },
     "metadata": {
      "needs_background": "light"
     },
     "output_type": "display_data"
    }
   ],
   "source": [
    "x_c=dradio*np.cos(dphi)\n",
    "y_c=dradio*np.sin(dphi)\n",
    "fig = plt.figure(figsize=(7,7))\n",
    "ax1 = fig.add_subplot(1,1,1)\n",
    "ax1.scatter(0,0)\n",
    "ax1.plot(x_c,y_c)\n",
    "x_l=np.cos(t*w)\n",
    "y_l=np.sin(t*w)\n",
    "ax1.plot(x_l,y_l)\n"
   ]
  },
  {
   "cell_type": "code",
   "execution_count": 247,
   "metadata": {},
   "outputs": [],
   "source": [
    "t_r=[]\n",
    "x_c_r=[]\n",
    "y_c_r=[]\n",
    "x_l_r=[]\n",
    "y_l_r=[]\n",
    "for i in range(len(t)):\n",
    "    if t[i]%1000==0:\n",
    "        t_r.append(t[i])\n",
    "        x_c_r.append(x_c[i])\n",
    "        y_c_r.append(y_c[i])\n",
    "        x_l_r.append(x_l[i])\n",
    "        y_l_r.append(y_l[i])        \n",
    "r_t=np.array(t_r)/86400\n",
    "x_c_r_=np.array(x_c_r)\n",
    "y_c_r_=np.array(y_c_r)\n",
    "x_l_r_=np.array(x_l_r)\n",
    "y_l_r_=np.array(y_l_r)"
   ]
  },
  {
   "cell_type": "code",
   "execution_count": 248,
   "metadata": {},
   "outputs": [
    {
     "data": {
      "image/png": "[encoded data removed]",
      "text/plain": [
       "<Figure size 504x504 with 1 Axes>"
      ]
     },
     "metadata": {
      "needs_background": "light"
     },
     "output_type": "display_data"
    }
   ],
   "source": [
    "fig = plt.figure(figsize=(7,7))\n",
    "ax = fig.add_subplot(1,1,1)\n",
    "    \n",
    "def init():\n",
    "    ax.set_xlim(-0.1,1.1)\n",
    "    ax.set_ylim(-0.1,1.1)\n",
    "    ax.scatter(0,0,label=\"tierra\")\n",
    "\n",
    "\n",
    "def Update(i):\n",
    "    \n",
    "    plot = ax.clear()\n",
    "    init()\n",
    "    \n",
    "    \n",
    "\n",
    "        \n",
    "    x_c_r = x_c_r_[i]\n",
    "    y_c_r = y_c_r_[i]\n",
    "    x_l_r = x_l_r_[i]\n",
    "    y_l_r = y_l_r_[i]\n",
    "   \n",
    "\n",
    "  \n",
    "    plot = ax.set_title(r'$t=%.4f \\ días$' %(r_t[i]))\n",
    "        \n",
    "    plot = ax.scatter(x_c_r,y_c_r,marker='.',color=\"r\", label=\"cohete\")\n",
    "    plot = ax.scatter(x_l_r,y_l_r,marker='.',color=\"BLACK\", label=\"luna\") \n",
    "        \n",
    "     \n",
    "   \n",
    "    plot = ax.legend()\n",
    "            \n",
    "    return plot\n",
    "    \n",
    "Animation = anim.FuncAnimation(fig,Update,frames=len(t_r),init_func=init)"
   ]
  },
  {
   "cell_type": "code",
   "execution_count": 249,
   "metadata": {},
   "outputs": [],
   "source": [
    "Writer = anim.writers['ffmpeg']\n",
    "writer_ = Writer(fps=30, metadata=dict(artist='FaberJoan'))\n",
    "Animation.save('CoheteFaberJoan.mp4', writer=writer_)"
   ]
  },
  {
   "cell_type": "code",
   "execution_count": null,
   "metadata": {},
   "outputs": [],
   "source": []
  }
 ],
 "metadata": {
  "kernelspec": {
   "display_name": "Python 3",
   "language": "python",
   "name": "python3"
  },
  "language_info": {
   "codemirror_mode": {
    "name": "ipython",
    "version": 3
   },
   "file_extension": ".py",
   "mimetype": "text/x-python",
   "name": "python",
   "nbconvert_exporter": "python",
   "pygments_lexer": "ipython3",
   "version": "3.8.5"
  }
 },
 "nbformat": 4,
 "nbformat_minor": 4
}
